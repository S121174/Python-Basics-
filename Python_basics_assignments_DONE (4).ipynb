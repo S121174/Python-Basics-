{
 "cells": [
  {
   "cell_type": "code",
   "execution_count": null,
   "metadata": {
    "id": "nBbYT1qK53LJ"
   },
   "outputs": [],
   "source": []
  },
  {
   "cell_type": "markdown",
   "metadata": {
    "id": "5m5d1D-z55z5"
   },
   "source": [
    "# Python Basics  Questions\n",
    "1. What is Python, and why is it popular?\n",
    "   - Python is a high-level, interpreted programming language known for its readability, simplicity, and versatility. It was created by Guido van Rossum and first released in 1991. Python emphasizes clean syntax and code readability, making it an excellent language for beginners while also being powerful enough for professionals.\n",
    "\n",
    "Why Python is Popular:\n",
    "Easy to Learn and Use:\n",
    "\n",
    "Python’s syntax is similar to English, making it intuitive and beginner-friendly.\n",
    "\n",
    "Minimal boilerplate code compared to other languages.\n",
    "\n",
    "Versatile and General-Purpose:\n",
    "\n",
    "Used in many domains: web development, data science, AI, automation, scripting, game development, etc.\n",
    "\n",
    "Extensive Libraries and Frameworks:\n",
    "\n",
    "Libraries like NumPy, pandas, TensorFlow, Django, Flask, and PyTorch accelerate development.\n",
    "\n",
    "Strong Community Support:\n",
    "\n",
    "Vast, active community provides help, tutorials, and third-party modules.\n",
    "\n",
    "Cross-Platform:\n",
    "\n",
    "Python runs on Windows, macOS, Linux, and more with little or no modification needed.\n",
    "\n",
    "Good for Rapid Prototyping:\n",
    "\n",
    "Developers can quickly test ideas and iterate due to the simplicity of the language.\n",
    "2.  What is an interpreter in Python?\n",
    "    - In Python, an interpreter is a program that reads and executes Python code line by line. Instead of compiling the entire program into machine code (like compiled languages such as C or Java), Python code is run through the interpreter, which translates it into machine instructions at runtime.\n",
    "3. What are pre-defined keywords in Python?\n",
    "   - Pre-defined keywords in Python are reserved words that have special meaning in the language. They are part of the Python syntax and cannot be used as identifiers (e.g., variable names, function names). These keywords are used to define the structure and flow of a Python program.\n",
    "4. Can keywords be used as variable names?\n",
    "   - No, keywords cannot be used as variable names in most programming languages, including Python, Java, C++, and others.\n",
    "5. What is mutability in Python?\n",
    "   - Mutability in Python refers to whether or not an object’s state (i.e., its content) can be changed after it is created.\n",
    "6. Why are lists mutable, but tuples are immutable?\n",
    "   -The difference between lists being mutable and tuples being immutable in Python comes down to design choices based on use cases and performance considerations. Here's a breakdown of why this is the case:\n",
    "\n",
    "🔁 Lists are Mutable\n",
    "Purpose: Lists are designed to be flexible and are often used when you need to store collections of items that might change—such as adding, removing, or modifying elements.\n",
    "\n",
    "Operations: They support many operations like append(), remove(), sort(), etc.\n",
    "\n",
    "Use case: Ideal for dynamic data structures like queues, stacks, or collections that grow or shrink.\n",
    "7. What is the difference between “==” and “is” operators in Python?\n",
    "   - in Python, == and is are both comparison operators, but they are used for different types of comparisons:\n",
    "\n",
    "🔹 == (Equality operator)\n",
    "Checks if two values are equal.\n",
    "\n",
    "Compares the contents of the objects.\n",
    "8. What are logical operators in Python?    \n",
    "  - Logical operators in Python are used to combine conditional statements (expressions that evaluate to True or False). They return Boolean values (True or False) based on the logic of the operands.\n",
    "9. What is type casting in Python?\n",
    "   - In Python, type casting refers to the conversion of one data type to another. This is useful when you need to perform operations that require a specific data type.\n",
    "10. What is the difference between implicit and explicit type casting?\n",
    "    - The difference between implicit and explicit type casting (also known as type conversion) primarily lies in how the conversion is done:\n",
    "\n",
    "Implicit Type Casting (Automatic Type Casting):\n",
    "\n",
    "It is done automatically by the compiler.\n",
    "\n",
    "This type of casting occurs when a smaller data type is converted to a larger data type, or a type is promoted in a way that does not cause loss of data.\n",
    "\n",
    "Implicit casting is safe and occurs when there is no risk of data loss.\n",
    "\n",
    "Example: Converting an int to a float or a char to an int.\n",
    "Explicit Type Casting (Manual Type Casting):\n",
    "\n",
    "The programmer explicitly instructs the compiler to convert one type to another.\n",
    "\n",
    "It is used when converting between types that are not automatically compatible or when you want to force a conversion that could potentially lead to data loss.\n",
    "\n",
    "This requires a cast operator (e.g., (type) in languages like C++ or Java).\n",
    "\n",
    "Example: Converting a float to an int (this might truncate the decimal part).\n",
    "Key Differences:\n",
    "Implicit casting is automatic, while explicit casting requires the programmer to specify the conversion.\n",
    "\n",
    "Implicit casting happens without the risk of losing data, while explicit casting may result in data loss or precision loss.\n",
    "11.  What is the purpose of conditional statements in Python?\n",
    "     - Conditional statements in Python are used to make decisions in the code, allowing the program to execute different blocks of code based on certain conditions. These decisions are typically made using if, elif, and else statements.\n",
    "12. How does the elif statement work?\n",
    "    - The elif (short for \"else if\") statement is used in Python to check multiple conditions in an if statement structure. It allows you to check more than two conditions, and if the if condition is not met, it checks the elif condition. If none of the if or elif conditions are true, the else block (if present) is executed.\n",
    "13. What is the difference between for and while loops?\n",
    "   - The main difference between for loops and while loops lies in how they control the iteration process:\n",
    "\n",
    "For Loop:\n",
    "\n",
    "A for loop is typically used when you know beforehand how many times you need to loop, or you are iterating over a sequence like a list, range, or string.\n",
    "\n",
    "It iterates over a set number of elements or a specific range.\n",
    "While Loop:\n",
    "\n",
    "A while loop continues to execute as long as a given condition is true. You generally don’t know ahead of time how many iterations there will be. The condition is evaluated before each iteration.\n",
    "\n",
    "Key Differences:\n",
    "For Loop: Best for when you know the number of iterations or are working with a sequence (like a list, string, or range).\n",
    "\n",
    "While Loop: Best for when you want the loop to continue until a certain condition changes, often used when you don't know how many iterations are needed ahead of time.\n",
    "14.  Describe a scenario where a while loop is more suitable than a for loop?\n",
    "     - A while loop is more suitable than a for loop in scenarios where the number of iterations is not known in advance, and the loop needs to continue until a certain condition is met. Here’s a classic example:\n",
    "\n",
    "Scenario: Waiting for User Input\n",
    "Suppose you're building a program where you need to repeatedly ask the user for a password until they enter the correct one.\n",
    "# Practical questions\n",
    "\n",
    "\n",
    "\n"
   ]
  },
  {
   "cell_type": "markdown",
   "metadata": {
    "id": "pQ-nkO13PcrV"
   },
   "source": [
    "1. Write a Python program to print \"Hello, World!"
   ]
  },
  {
   "cell_type": "code",
   "execution_count": null,
   "metadata": {
    "colab": {
     "base_uri": "https://localhost:8080/"
    },
    "id": "kBLIQ-BaPldt",
    "outputId": "97066cc0-f8a2-4132-b40b-6d030e8bf9e9"
   },
   "outputs": [
    {
     "name": "stdout",
     "output_type": "stream",
     "text": [
      "hello world\n"
     ]
    }
   ],
   "source": [
    "print(\"hello world\")"
   ]
  },
  {
   "cell_type": "markdown",
   "metadata": {
    "id": "7X63hxzClxDj"
   },
   "source": [
    " 2. Write a Python program that displays your name and age."
   ]
  },
  {
   "cell_type": "code",
   "execution_count": 1,
   "metadata": {
    "id": "lr7nWwOIpHCt"
   },
   "outputs": [
    {
     "name": "stdout",
     "output_type": "stream",
     "text": [
      "My name is Shashikant Tripathi\n",
      "I am 27 years old\n"
     ]
    }
   ],
   "source": [
    "\n",
    "name = \"Shashikant Tripathi\"\n",
    "age = 27\n",
    "\n",
    "# Displaying the output\n",
    "print(\"My name is\", name)\n",
    "print(\"I am\", age, \"years old\")\n"
   ]
  },
  {
   "cell_type": "markdown",
   "metadata": {
    "id": "SdXDpa5ZpnlM"
   },
   "source": [
    "3. Write code to print all the pre-defined keywords in Python using the keyword library."
   ]
  },
  {
   "cell_type": "code",
   "execution_count": 6,
   "metadata": {
    "colab": {
     "base_uri": "https://localhost:8080/"
    },
    "id": "FtaBoC7qp-QO",
    "outputId": "44e4f96f-6d2a-4950-fd9d-637ee201198b"
   },
   "outputs": [
    {
     "name": "stdout",
     "output_type": "stream",
     "text": [
      "The list of pre-defined keywords in Python are:\n",
      "\n",
      "False\n",
      "None\n",
      "True\n",
      "and\n",
      "as\n",
      "assert\n",
      "async\n",
      "await\n",
      "break\n",
      "class\n",
      "continue\n",
      "def\n",
      "del\n",
      "elif\n",
      "else\n",
      "except\n",
      "finally\n",
      "for\n",
      "from\n",
      "global\n",
      "if\n",
      "import\n",
      "in\n",
      "is\n",
      "lambda\n",
      "nonlocal\n",
      "not\n",
      "or\n",
      "pass\n",
      "raise\n",
      "return\n",
      "try\n",
      "while\n",
      "with\n",
      "yield\n"
     ]
    }
   ],
   "source": [
    "import keyword\n",
    "\n",
    "# Get the list of all Python keywords\n",
    "keywords = keyword.kwlist\n",
    "\n",
    "print(\"The list of pre-defined keywords in Python are:\\n\")\n",
    "for kw in keywords:\n",
    "    print(kw)\n"
   ]
  },
  {
   "cell_type": "markdown",
   "metadata": {
    "id": "_l8ORjf5sNZx"
   },
   "source": [
    "4. Write a program that checks if a given word is a Python keyword."
   ]
  },
  {
   "cell_type": "code",
   "execution_count": null,
   "metadata": {
    "id": "lHy81iyJsYsU"
   },
   "outputs": [],
   "source": [
    "import keyword\n",
    "\n",
    "def check_keyword(word):\n",
    "    if keyword.iskeyword(word):\n",
    "        print(f\"'{word}' is a Python keyword.\")\n",
    "    else:\n",
    "        print(f\"'{word}' is NOT a Python keyword.\")\n",
    "\n",
    "# Example usage\n",
    "user_input = input(\"Enter a word to check if it's a Python keyword: \")\n",
    "check_keyword(user_input)\n"
   ]
  },
  {
   "cell_type": "markdown",
   "metadata": {
    "id": "wpjdSge3tOPE"
   },
   "source": [
    "5. Create a list and tuple in Python, and demonstrate how attempting to change an element works differently\n",
    "for each."
   ]
  },
  {
   "cell_type": "code",
   "execution_count": null,
   "metadata": {
    "id": "2c6sgEnaubmz"
   },
   "outputs": [],
   "source": [
    "1. List (mutable)\n",
    "python\n",
    "Copy\n",
    "Edit\n",
    "# Creating a list\n",
    "my_list = [1, 2, 3]\n",
    "\n",
    "# Changing the second element\n",
    "my_list[1] = 20\n",
    "\n",
    "print(\"Modified list:\", my_list)\n",
    "✅ Output:\n",
    "\n",
    "less\n",
    "Copy\n",
    "Edit\n",
    "Modified list: [1, 20, 3]\n",
    "Lists are mutable, meaning you can change their contents.\n",
    "\n",
    "2. Tuple (immutable)\n",
    "python\n",
    "Copy\n",
    "Edit\n",
    "# Creating a tuple\n",
    "my_tuple = (1, 2, 3)\n",
    "\n",
    "# Attempting to change the second element\n",
    "my_tuple[1] = 20  # This will raise an error\n",
    "❌ Output:\n",
    "\n",
    "php\n",
    "Copy\n",
    "Edit\n",
    "TypeError: 'tuple' object does not support item assignment\n",
    "Tuples are immutable, so their elements cannot be modified once created.\n",
    "\n"
   ]
  },
  {
   "cell_type": "markdown",
   "metadata": {
    "id": "1Ypn6i_5wNW5"
   },
   "source": [
    "6.  Write a function to demonstrate the behavior of mutable and immutable arguments."
   ]
  },
  {
   "cell_type": "code",
   "execution_count": null,
   "metadata": {
    "id": "gGzeOLb6EG2B"
   },
   "outputs": [],
   "source": [
    "def demonstrate_mutable_and_immutable(immutable_arg, mutable_arg):\n",
    "    print(\"Inside function before modification:\")\n",
    "    print(f\"Immutable argument: {immutable_arg}\")\n",
    "    print(f\"Mutable argument: {mutable_arg}\")\n",
    "\n",
    "    # Attempt to modify the immutable argument\n",
    "    immutable_arg += 10\n",
    "\n",
    "    # Modify the mutable argument\n",
    "    mutable_arg.append(4)\n",
    "\n",
    "    print(\"\\nInside function after modification:\")\n",
    "    print(f\"Immutable argument: {immutable_arg}\")\n",
    "    print(f\"Mutable argument: {mutable_arg}\")\n",
    "\n",
    "# Immutable type: int\n",
    "x = 5\n",
    "# Mutable type: list\n",
    "y = [1, 2, 3]\n",
    "\n",
    "print(\"Before function call:\")\n",
    "print(f\"x: {x}\")\n",
    "print(f\"y: {y}\\n\")\n",
    "\n",
    "demonstrate_mutable_and_immutable(x, y)\n",
    "\n",
    "print(\"\\nAfter function call:\")\n",
    "print(f\"x: {x}\")  # Unchanged\n",
    "print(f\"y: {y}\")  # Changed\n"
   ]
  },
  {
   "cell_type": "markdown",
   "metadata": {
    "id": "e4U6c4_4EQrN"
   },
   "source": [
    "7.  Write a program that performs basic arithmetic operations on two user-input numbers."
   ]
  },
  {
   "cell_type": "code",
   "execution_count": null,
   "metadata": {
    "colab": {
     "base_uri": "https://localhost:8080/"
    },
    "id": "Ezf0xi35Elmq",
    "outputId": "ea13987a-21ec-4a32-ee1a-43258d99c43b"
   },
   "outputs": [
    {
     "name": "stdout",
     "output_type": "stream",
     "text": [
      "Basic Arithmetic Operations\n"
     ]
    }
   ],
   "source": [
    "# Basic Arithmetic Operations Program\n",
    "\n",
    "def main():\n",
    "    print(\"Basic Arithmetic Operations\")\n",
    "\n",
    "    # Getting user input\n",
    "    try:\n",
    "        num1 = float(input(\"Enter the first number: \"))\n",
    "        num2 = float(input(\"Enter the second number: \"))\n",
    "    except ValueError:\n",
    "        print(\"Invalid input. Please enter numeric values.\")\n",
    "        return\n",
    "\n",
    "    # Performing operations\n",
    "    print(f\"\\nResults:\")\n",
    "    print(f\"{num1} + {num2} = {num1 + num2}\")\n",
    "    print(f\"{num1} - {num2} = {num1 - num2}\")\n",
    "    print(f\"{num1} * {num2} = {num1 * num2}\")\n",
    "\n",
    "    # Handle division by zero\n",
    "    if num2 != 0:\n",
    "        print(f\"{num1} / {num2} = {num1 / num2}\")\n",
    "    else:\n",
    "        print(f\"{num1} / {num2} = Division by zero is not allowed\")\n",
    "\n",
    "if __name__ == \"__main__\":\n",
    "    main()\n"
   ]
  },
  {
   "cell_type": "markdown",
   "metadata": {
    "id": "nYulc7ANE7F9"
   },
   "source": [
    "8.  Write a program to demonstrate the use of logical operators."
   ]
  },
  {
   "cell_type": "code",
   "execution_count": null,
   "metadata": {
    "id": "nNUT-VFaFG1w"
   },
   "outputs": [],
   "source": [
    "# Logical Operators Demonstration\n",
    "\n",
    "print(\"Logical Operators Demonstration\")\n",
    "print(\"----------------------------------\")\n",
    "\n",
    "# Input values\n",
    "a = int(input(\"Enter the first number (a): \"))\n",
    "b = int(input(\"Enter the second number (b): \"))\n",
    "\n",
    "# Using logical AND\n",
    "print(\"\\nUsing 'and' operator:\")\n",
    "if a > 0 and b > 0:\n",
    "    print(\"Both numbers are positive.\")\n",
    "else:\n",
    "    print(\"At least one number is not positive.\")\n",
    "\n",
    "# Using logical OR\n",
    "print(\"\\nUsing 'or' operator:\")\n",
    "if a > 0 or b > 0:\n",
    "    print(\"At least one number is positive.\")\n",
    "else:\n",
    "    print(\"Neither number is positive.\")\n",
    "\n",
    "# Using logical NOT\n",
    "print(\"\\nUsing 'not' operator:\")\n",
    "print(\"a is not zero:\", not a == 0)\n",
    "print(\"b is not zero:\", not b == 0)\n"
   ]
  },
  {
   "cell_type": "markdown",
   "metadata": {
    "id": "mKyBkn0sJrtP"
   },
   "source": [
    "9.  Write a Python program to convert user input from string to integer, float, and boolean types."
   ]
  },
  {
   "cell_type": "code",
   "execution_count": null,
   "metadata": {
    "id": "lWYLWyKQJ9s9"
   },
   "outputs": [],
   "source": [
    "def convert_input():\n",
    "    user_input = input(\"Enter a value: \")\n",
    "\n",
    "    # Convert to integer\n",
    "    try:\n",
    "        int_value = int(user_input)\n",
    "        print(\"Integer:\", int_value)\n",
    "    except ValueError:\n",
    "        print(\"Cannot convert to integer.\")\n",
    "\n",
    "    # Convert to float\n",
    "    try:\n",
    "        float_value = float(user_input)\n",
    "        print(\"Float:\", float_value)\n",
    "    except ValueError:\n",
    "        print(\"Cannot convert to float.\")\n",
    "\n",
    "    # Convert to boolean\n",
    "    bool_value = user_input.strip().lower() in ['true', '1', 'yes', 'on']\n",
    "    print(\"Boolean:\", bool_value)\n",
    "\n",
    "# Run the function\n",
    "convert_input()\n"
   ]
  },
  {
   "cell_type": "markdown",
   "metadata": {
    "id": "AOchZ-LzKIIX"
   },
   "source": [
    "10. Write code to demonstrate type casting with list elements."
   ]
  },
  {
   "cell_type": "code",
   "execution_count": null,
   "metadata": {
    "id": "Noi5gdLJKQrX"
   },
   "outputs": [],
   "source": [
    "# Original list with strings representing numbers\n",
    "string_list = [\"10\", \"20\", \"30\", \"40.5\", \"not_a_number\"]\n",
    "\n",
    "# Empty lists to hold the converted values\n",
    "int_list = []\n",
    "float_list = []\n",
    "\n",
    "for item in string_list:\n",
    "    try:\n",
    "        # Attempt to cast to integer\n",
    "        int_value = int(float(item))  # Handles float strings like \"40.5\"\n",
    "        int_list.append(int_value)\n",
    "    except ValueError:\n",
    "        print(f\"Cannot convert '{item}' to int.\")\n",
    "\n",
    "    try:\n",
    "        # Attempt to cast to float\n",
    "        float_value = float(item)\n",
    "        float_list.append(float_value)\n",
    "    except ValueError:\n",
    "        print(f\"Cannot convert '{item}' to float.\")\n",
    "\n",
    "print(\"Original list:\", string_list)\n",
    "print(\"Converted to integers:\", int_list)\n",
    "print(\"Converted to floats:\", float_list)\n",
    "\n",
    "Cannot convert 'not_a_number' to int.\n",
    "Cannot convert 'not_a_number' to float.\n",
    "Original list: ['10', '20', '30', '40.5', 'not_a_number']\n",
    "Converted to integers: [10, 20, 30, 40]\n",
    "Converted to floats: [10.0, 20.0, 30.0, 40.5]\n"
   ]
  },
  {
   "cell_type": "markdown",
   "metadata": {
    "id": "e0LigB52Kpum"
   },
   "source": [
    "11. Write a program that checks if a number is positive, negative, or zero."
   ]
  },
  {
   "cell_type": "code",
   "execution_count": null,
   "metadata": {
    "id": "0eGZJBstKwcB"
   },
   "outputs": [],
   "source": [
    "# Get input from the user\n",
    "num = float(input(\"Enter a number: \"))\n",
    "\n",
    "# Check if the number is positive, negative, or zero\n",
    "if num > 0:\n",
    "    print(\"The number is positive.\")\n",
    "elif num < 0:\n",
    "    print(\"The number is negative.\")\n",
    "else:\n",
    "    print(\"The number is zero.\")\n"
   ]
  },
  {
   "cell_type": "markdown",
   "metadata": {
    "id": "i6CdVXE4K6SS"
   },
   "source": [
    "12.  Write a for loop to print numbers from 1 to 10."
   ]
  },
  {
   "cell_type": "code",
   "execution_count": null,
   "metadata": {
    "id": "hvewmRIzLBB8"
   },
   "outputs": [],
   "source": [
    "for i in range(1, 11):\n",
    "    print(i)\n"
   ]
  },
  {
   "cell_type": "markdown",
   "metadata": {
    "id": "jYeaJ55zLREy"
   },
   "source": [
    "13.  Write a Python program to find the sum of all even numbers between 1 and 50."
   ]
  },
  {
   "cell_type": "code",
   "execution_count": null,
   "metadata": {
    "id": "Skw4miVwLhV9"
   },
   "outputs": [],
   "source": [
    "# Initialize the sum\n",
    "total = 0\n",
    "\n",
    "# Loop through numbers from 1 to 50\n",
    "for number in range(1, 51):\n",
    "    if number % 2 == 0:\n",
    "        total += number\n",
    "\n",
    "# Print the result\n",
    "print(\"The sum of all even numbers between 1 and 50 is:\", total)\n"
   ]
  },
  {
   "cell_type": "markdown",
   "metadata": {
    "id": "4jG1zOn6MFAR"
   },
   "source": [
    "14.  Write a program to reverse a string using a while loop."
   ]
  },
  {
   "cell_type": "code",
   "execution_count": null,
   "metadata": {
    "id": "6yO3UOYwMQHx"
   },
   "outputs": [],
   "source": [
    "# Program to reverse a string using a while loop\n",
    "\n",
    "# Input string\n",
    "input_str = input(\"Enter a string: \")\n",
    "\n",
    "# Initialize an empty string for the reversed result\n",
    "reversed_str = \"\"\n",
    "\n",
    "# Set the index to the last character of the string\n",
    "index = len(input_str) - 1\n",
    "\n",
    "# Loop until the beginning of the string\n",
    "while index >= 0:\n",
    "    reversed_str += input_str[index]\n",
    "    index -= 1\n",
    "\n",
    "# Output the reversed string\n",
    "print(\"Reversed string:\", reversed_str)\n"
   ]
  },
  {
   "cell_type": "markdown",
   "metadata": {
    "id": "T2aNyxjxMZrq"
   },
   "source": [
    "15.  Write a Python program to calculate the factorial of a number provided by the user using a while loop."
   ]
  },
  {
   "cell_type": "code",
   "execution_count": null,
   "metadata": {
    "id": "ll1Zx4sFMieg"
   },
   "outputs": [],
   "source": [
    "# Program to calculate factorial using a while loop\n",
    "\n",
    "# Get input from the user\n",
    "num = int(input(\"Enter a non-negative integer: \"))\n",
    "\n",
    "# Check if the number is negative\n",
    "if num < 0:\n",
    "    print(\"Factorial is not defined for negative numbers.\")\n",
    "else:\n",
    "    factorial = 1\n",
    "    i = 1\n",
    "\n",
    "    # Calculate factorial using while loop\n",
    "    while i <= num:\n",
    "        factorial *= i\n",
    "        i += 1\n",
    "\n",
    "    print(f\"The factorial of {num} is {factorial}.\")\n"
   ]
  },
  {
   "cell_type": "code",
   "execution_count": null,
   "metadata": {},
   "outputs": [],
   "source": []
  }
 ],
 "metadata": {
  "colab": {
   "provenance": []
  },
  "kernelspec": {
   "display_name": "Python 3 (ipykernel)",
   "language": "python",
   "name": "python3"
  },
  "language_info": {
   "codemirror_mode": {
    "name": "ipython",
    "version": 3
   },
   "file_extension": ".py",
   "mimetype": "text/x-python",
   "name": "python",
   "nbconvert_exporter": "python",
   "pygments_lexer": "ipython3",
   "version": "3.12.7"
  }
 },
 "nbformat": 4,
 "nbformat_minor": 4
}
